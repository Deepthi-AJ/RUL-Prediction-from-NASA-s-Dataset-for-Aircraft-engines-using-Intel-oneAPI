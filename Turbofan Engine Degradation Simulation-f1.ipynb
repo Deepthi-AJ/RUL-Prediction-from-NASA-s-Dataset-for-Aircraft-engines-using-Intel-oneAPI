{
 "cells": [
  {
   "cell_type": "code",
   "execution_count": 1,
   "id": "3b49eea8-2f3d-4d3b-a2c5-18a4fe564ea4",
   "metadata": {},
   "outputs": [
    {
     "name": "stderr",
     "output_type": "stream",
     "text": [
      "Intel(R) Extension for Scikit-learn* enabled (https://github.com/intel/scikit-learn-intelex)\n",
      "Intel(R) Extension for Scikit-learn* enabled (https://github.com/intel/scikit-learn-intelex)\n"
     ]
    }
   ],
   "source": [
    "import sklearn\n",
    "from sklearnex import patch_sklearn\n",
    "patch_sklearn()\n",
    "#unpatch_sklearn()\n",
    "from sklearn.model_selection import train_test_split\n",
    "from sklearn.metrics import mean_squared_error, mean_absolute_error, r2_score\n",
    "import warnings\n",
    "warnings.simplefilter(action='ignore', category=FutureWarning)\n",
    "import pandas as pd\n",
    "from pandas import MultiIndex, Int16Dtype \n",
    "import xgboost as xgb\n",
    "from xgboost import XGBRegressor\n",
    "import daal4py as d4p\n",
    "import joblib\n",
    "import numpy as np\n",
    "from time import perf_counter"
   ]
  },
  {
   "cell_type": "markdown",
   "id": "9e7591b3-2e6c-4621-803c-30c64bcd5f3d",
   "metadata": {},
   "source": [
    "## About the Data\n",
    "\n",
    "Engine degradation simulation was carried out using the Commercial Modular Aero-Propulsion System Simulation (C-MAPSS). Four different sets were simulated under different combinations of operational conditions and fault modes. This records several sensor channels to characterize fault evolution. The data set was provided by the NASA Ames Prognostics Center of Excellence (PCoE).\n",
    "\n",
    "Data sets consists of multiple multivariate time series. Each data set is further divided into training and test subsets. Each time series is from a different engine i.e., the data can be considered to be from a fleet of engines of the same type. Each engine starts with different degrees of initial wear and manufacturing variation which is unknown to the user. This wear and variation is considered normal, i.e., it is not considered a fault condition. There are three operational settings that have a substantial effect on engine performance. These settings are also included in the data. The data is contaminated with sensor noise.\n",
    "\n",
    "The engine is operating normally at the start of each time series, and develops a fault at some point during the series. In the training set, the fault grows in magnitude until system failure. In the test set, the time series ends some time prior to system failure. The objective of the competition is to predict the number of remaining operational cycles before failure in the test set, i.e., the number of operational cycles after the last cycle that the engine will continue to operate. Also provided a vector of true Remaining Useful Life (RUL) values for the test data.\n",
    "\n",
    "The data are provided as a text file with 26 columns of numbers, separated by spaces. Each row is a snapshot of data taken during a single operational cycle, each column is a different variable. The columns correspond to:\n",
    "\n",
    "1) unit number\n",
    "2) time, in cycles\n",
    "3) operational setting 1\n",
    "4) operational setting 2\n",
    "5) operational setting 3\n",
    "6) sensor measurement 1\n",
    "7) sensor measurement 2\n",
    "...\n",
    "26) sensor measurement 26\n",
    "\n",
    "Data Set: **FD001**\n",
    "Train trjectories: 100\n",
    "Test trajectories: 100\n",
    "Conditions: ONE (Sea Level)\n",
    "Fault Modes: ONE (HPC Degradation)\n",
    "\n",
    "Data Set: **FD002**\n",
    "Train trjectories: 260\n",
    "Test trajectories: 259\n",
    "Conditions: SIX\n",
    "Fault Modes: ONE (HPC Degradation)\n",
    "\n",
    "Data Set: **FD003**\n",
    "Train trjectories: 100\n",
    "Test trajectories: 100\n",
    "Conditions: ONE (Sea Level)\n",
    "Fault Modes: TWO (HPC Degradation, Fan Degradation)\n",
    "\n",
    "Data Set: **FD004**\n",
    "Train trjectories: 248\n",
    "Test trajectories: 249\n",
    "Conditions: SIX\n",
    "Fault Modes: TWO (HPC Degradation, Fan Degradation)\n",
    "\n",
    "**Reference**: \n",
    "[A. Saxena, K. Goebel, D. Simon, and N. Eklund, ‘Damage Propagation Modeling for Aircraft Engine Run-to-Failure Simulation’, in the Proceedings of the 1st International Conference on Prognostics and Health Management (PHM08), Denver CO, Oct 2008.](https://ntrs.nasa.gov/api/citations/20090029214/downloads/20090029214.pdf)\n",
    "\n",
    "[Data Source 1](https://data.nasa.gov/Aerospace/CMAPSS-Jet-Engine-Simulated-Data/ff5v-kuh6)\n",
    "[Data Source 2](https://www.nasa.gov/intelligent-systems-division/discovery-and-systems-health/pcoe/pcoe-data-set-repository/)"
   ]
  },
  {
   "cell_type": "markdown",
   "id": "16097795-8437-4366-8ec6-0357939b724a",
   "metadata": {},
   "source": [
    "By changing fault modes and conditions, four different tests were conducted (thus, FD001, FD002, FD003, and FD004). For each test type, data were collected for training and test set. Training set data contains a number of engines being run simultaneously until it fails, i.e., for each engine data were collected to the point it failed."
   ]
  },
  {
   "cell_type": "markdown",
   "id": "707a5cf9-9c25-46f5-b118-0862b5c8f8f5",
   "metadata": {},
   "source": [
    "While the experiments were conducted till failure, all data till failure are not made public. Instead, data for an arbitrary number of cycles are provided for each engine of the test set. The task is then to predict after how many cycles, each engine will fail. This predicted value is our remaining useful life (RUL). Our goal is to predict RUL as accurately as possible from operational data. That's why we call it data-driven RUL prediction."
   ]
  },
  {
   "cell_type": "code",
   "execution_count": 2,
   "id": "6943de8f-2aa2-42ad-a86a-b5b64a397992",
   "metadata": {},
   "outputs": [
    {
     "name": "stdout",
     "output_type": "stream",
     "text": [
      "(20631, 26)\n",
      "Engines:  [  1   2   3   4   5   6   7   8   9  10  11  12  13  14  15  16  17  18\n",
      "  19  20  21  22  23  24  25  26  27  28  29  30  31  32  33  34  35  36\n",
      "  37  38  39  40  41  42  43  44  45  46  47  48  49  50  51  52  53  54\n",
      "  55  56  57  58  59  60  61  62  63  64  65  66  67  68  69  70  71  72\n",
      "  73  74  75  76  77  78  79  80  81  82  83  84  85  86  87  88  89  90\n",
      "  91  92  93  94  95  96  97  98  99 100]\n"
     ]
    }
   ],
   "source": [
    "train_data1 = pd.read_csv(\"../_Project_Innovator1_TurbofanEngineDegradationRUL/data/train_FD001.txt\", sep = \"\\s+\", header = None)\n",
    "print(train_data1.shape)\n",
    "print(\"Engines: \",np.unique(train_data1[0]))"
   ]
  },
  {
   "cell_type": "code",
   "execution_count": 3,
   "id": "0f1745a2-c5f6-4c3a-a92b-609e616039d5",
   "metadata": {},
   "outputs": [
    {
     "name": "stdout",
     "output_type": "stream",
     "text": [
      "(53759, 26)\n",
      "Engines:  [  1   2   3   4   5   6   7   8   9  10  11  12  13  14  15  16  17  18\n",
      "  19  20  21  22  23  24  25  26  27  28  29  30  31  32  33  34  35  36\n",
      "  37  38  39  40  41  42  43  44  45  46  47  48  49  50  51  52  53  54\n",
      "  55  56  57  58  59  60  61  62  63  64  65  66  67  68  69  70  71  72\n",
      "  73  74  75  76  77  78  79  80  81  82  83  84  85  86  87  88  89  90\n",
      "  91  92  93  94  95  96  97  98  99 100 101 102 103 104 105 106 107 108\n",
      " 109 110 111 112 113 114 115 116 117 118 119 120 121 122 123 124 125 126\n",
      " 127 128 129 130 131 132 133 134 135 136 137 138 139 140 141 142 143 144\n",
      " 145 146 147 148 149 150 151 152 153 154 155 156 157 158 159 160 161 162\n",
      " 163 164 165 166 167 168 169 170 171 172 173 174 175 176 177 178 179 180\n",
      " 181 182 183 184 185 186 187 188 189 190 191 192 193 194 195 196 197 198\n",
      " 199 200 201 202 203 204 205 206 207 208 209 210 211 212 213 214 215 216\n",
      " 217 218 219 220 221 222 223 224 225 226 227 228 229 230 231 232 233 234\n",
      " 235 236 237 238 239 240 241 242 243 244 245 246 247 248 249 250 251 252\n",
      " 253 254 255 256 257 258 259 260]\n"
     ]
    }
   ],
   "source": [
    "train_data2 = pd.read_csv(\"../_Project_Innovator1_TurbofanEngineDegradationRUL/data/train_FD002.txt\", sep = \"\\s+\", header = None)\n",
    "print(train_data2.shape)\n",
    "print(\"Engines: \",np.unique(train_data2[0]))"
   ]
  },
  {
   "cell_type": "code",
   "execution_count": 4,
   "id": "ea10bc50-5457-497d-802e-bf121332683d",
   "metadata": {},
   "outputs": [
    {
     "name": "stdout",
     "output_type": "stream",
     "text": [
      "(24720, 26)\n",
      "Engines:  [  1   2   3   4   5   6   7   8   9  10  11  12  13  14  15  16  17  18\n",
      "  19  20  21  22  23  24  25  26  27  28  29  30  31  32  33  34  35  36\n",
      "  37  38  39  40  41  42  43  44  45  46  47  48  49  50  51  52  53  54\n",
      "  55  56  57  58  59  60  61  62  63  64  65  66  67  68  69  70  71  72\n",
      "  73  74  75  76  77  78  79  80  81  82  83  84  85  86  87  88  89  90\n",
      "  91  92  93  94  95  96  97  98  99 100]\n"
     ]
    }
   ],
   "source": [
    "train_data3 = pd.read_csv(\"../_Project_Innovator1_TurbofanEngineDegradationRUL/data/train_FD003.txt\", sep = \"\\s+\", header = None)\n",
    "print(train_data3.shape)\n",
    "print(\"Engines: \",np.unique(train_data3[0]))"
   ]
  },
  {
   "cell_type": "code",
   "execution_count": 5,
   "id": "119d3bac-f51f-46f3-8a2d-d72df71a2393",
   "metadata": {},
   "outputs": [
    {
     "name": "stdout",
     "output_type": "stream",
     "text": [
      "(61249, 26)\n",
      "Engines:  [  1   2   3   4   5   6   7   8   9  10  11  12  13  14  15  16  17  18\n",
      "  19  20  21  22  23  24  25  26  27  28  29  30  31  32  33  34  35  36\n",
      "  37  38  39  40  41  42  43  44  45  46  47  48  49  50  51  52  53  54\n",
      "  55  56  57  58  59  60  61  62  63  64  65  66  67  68  69  70  71  72\n",
      "  73  74  75  76  77  78  79  80  81  82  83  84  85  86  87  88  89  90\n",
      "  91  92  93  94  95  96  97  98  99 100 101 102 103 104 105 106 107 108\n",
      " 109 110 111 112 113 114 115 116 117 118 119 120 121 122 123 124 125 126\n",
      " 127 128 129 130 131 132 133 134 135 136 137 138 139 140 141 142 143 144\n",
      " 145 146 147 148 149 150 151 152 153 154 155 156 157 158 159 160 161 162\n",
      " 163 164 165 166 167 168 169 170 171 172 173 174 175 176 177 178 179 180\n",
      " 181 182 183 184 185 186 187 188 189 190 191 192 193 194 195 196 197 198\n",
      " 199 200 201 202 203 204 205 206 207 208 209 210 211 212 213 214 215 216\n",
      " 217 218 219 220 221 222 223 224 225 226 227 228 229 230 231 232 233 234\n",
      " 235 236 237 238 239 240 241 242 243 244 245 246 247 248 249]\n"
     ]
    }
   ],
   "source": [
    "train_data4 = pd.read_csv(\"../_Project_Innovator1_TurbofanEngineDegradationRUL/data/train_FD004.txt\", sep = \"\\s+\", header = None)\n",
    "print(train_data4.shape)\n",
    "print(\"Engines: \",np.unique(train_data4[0]))"
   ]
  },
  {
   "cell_type": "markdown",
   "id": "c9472e9c-4e5a-4246-83e0-88ce3883dd46",
   "metadata": {},
   "source": [
    "This dataset has 26 columns (In fact, all 4 training and test datasets have 26 columns). Because of Python's numbering convention, the columns are numbered from 0 to 25. Column 1 is numbered as 0, Column 2 is numbered as 1, and so on. Description of each column is as follows:\n",
    "\n",
    "Column 1: Corresponds to engine number (This column is indexed 0 above because of Python's numbering convention)\n",
    "Column 2: Corresponds to cycle number. If engine 1 fails after 192 cycles, the entries of second column for engine 1 will go from 1 to 192. Similarly for other engines.\n",
    "Columns 3,4,5: 3 operational settings\n",
    "Columns 6-26: 21 sensor measurements"
   ]
  },
  {
   "cell_type": "code",
   "execution_count": 6,
   "id": "b1100ba6-d15b-4f45-ad1a-c71c6ef65abb",
   "metadata": {},
   "outputs": [
    {
     "name": "stdout",
     "output_type": "stream",
     "text": [
      "(100, 1)\n",
      "     0\n",
      "0  112\n",
      "1   98\n",
      "2   69\n",
      "3   82\n",
      "4   91\n",
      "      0\n",
      "95  137\n",
      "96   82\n",
      "97   59\n",
      "98  117\n",
      "99   20\n",
      "98\n"
     ]
    }
   ],
   "source": [
    "rul_data1 = pd.read_csv(\"../_Project_Innovator1_TurbofanEngineDegradationRUL/data/RUL_FD001.txt\", sep = \"\\s+\", header = None)"
   ]
  },
  {
   "cell_type": "code",
   "execution_count": 7,
   "id": "23c016d7-78cb-47ac-94b4-08e5ce71e612",
   "metadata": {},
   "outputs": [
    {
     "name": "stdout",
     "output_type": "stream",
     "text": [
      "(259, 1)\n",
      "     0\n",
      "0   18\n",
      "1   79\n",
      "2  106\n",
      "3  110\n",
      "4   15\n",
      "       0\n",
      "254  122\n",
      "255  191\n",
      "256   56\n",
      "257  131\n",
      "258   51\n",
      "79\n"
     ]
    }
   ],
   "source": [
    "rul_data2 = pd.read_csv(\"../_Project_Innovator1_TurbofanEngineDegradationRUL/data/RUL_FD002.txt\", sep = \"\\s+\", header = None)"
   ]
  },
  {
   "cell_type": "code",
   "execution_count": 8,
   "id": "b940be9c-d7a3-4cbd-a00a-d70f54c47719",
   "metadata": {},
   "outputs": [
    {
     "name": "stdout",
     "output_type": "stream",
     "text": [
      "(100, 1)\n",
      "     0\n",
      "0   44\n",
      "1   51\n",
      "2   27\n",
      "3  120\n",
      "4  101\n",
      "      0\n",
      "95  113\n",
      "96  123\n",
      "97   17\n",
      "98    8\n",
      "99   28\n",
      "51\n"
     ]
    }
   ],
   "source": [
    "rul_data3 = pd.read_csv(\"../_Project_Innovator1_TurbofanEngineDegradationRUL/data/RUL_FD003.txt\", sep = \"\\s+\", header = None)"
   ]
  },
  {
   "cell_type": "code",
   "execution_count": 9,
   "id": "666b1128-117d-4314-97c0-f3b3dee135a1",
   "metadata": {},
   "outputs": [
    {
     "name": "stdout",
     "output_type": "stream",
     "text": [
      "(248, 1)\n",
      "     0\n",
      "0   22\n",
      "1   39\n",
      "2  107\n",
      "3   75\n",
      "4  149\n",
      "       0\n",
      "243   35\n",
      "244  131\n",
      "245  194\n",
      "246  112\n",
      "247   26\n",
      "39\n"
     ]
    }
   ],
   "source": [
    "rul_data4 = pd.read_csv(\"../_Project_Innovator1_TurbofanEngineDegradationRUL/data/RUL_FD004.txt\", sep = \"\\s+\", header = None)"
   ]
  },
  {
   "cell_type": "code",
   "execution_count": 11,
   "id": "b33bd0c3-f3fa-48b3-934b-7812d33a3a16",
   "metadata": {},
   "outputs": [
    {
     "name": "stdout",
     "output_type": "stream",
     "text": [
      "         0    1       2       3      4       5       6        7        8  \\\n",
      "20626  100  196 -0.0004 -0.0003  100.0  518.67  643.49  1597.98  1428.63   \n",
      "20627  100  197 -0.0016 -0.0005  100.0  518.67  643.54  1604.50  1433.58   \n",
      "20628  100  198  0.0004  0.0000  100.0  518.67  643.42  1602.46  1428.18   \n",
      "20629  100  199 -0.0011  0.0003  100.0  518.67  643.23  1605.26  1426.53   \n",
      "20630  100  200 -0.0032 -0.0005  100.0  518.67  643.85  1600.38  1432.14   \n",
      "\n",
      "           9  ...       17       18      19    20   21    22     23     24  \\\n",
      "20626  14.62  ...  2388.26  8137.60  8.4956  0.03  397  2388  100.0  38.49   \n",
      "20627  14.62  ...  2388.22  8136.50  8.5139  0.03  395  2388  100.0  38.30   \n",
      "20628  14.62  ...  2388.24  8141.05  8.5646  0.03  398  2388  100.0  38.44   \n",
      "20629  14.62  ...  2388.23  8139.29  8.5389  0.03  395  2388  100.0  38.29   \n",
      "20630  14.62  ...  2388.26  8137.33  8.5036  0.03  396  2388  100.0  38.37   \n",
      "\n",
      "            25  rul  \n",
      "20626  22.9735   20  \n",
      "20627  23.1594   20  \n",
      "20628  22.9333   20  \n",
      "20629  23.0640   20  \n",
      "20630  23.0522   20  \n",
      "\n",
      "[5 rows x 27 columns]\n",
      "   0  1       2       3      4       5       6        7        8      9  ...  \\\n",
      "0  1  1 -0.0007 -0.0004  100.0  518.67  641.82  1589.70  1400.60  14.62  ...   \n",
      "1  1  2  0.0019 -0.0003  100.0  518.67  642.15  1591.82  1403.14  14.62  ...   \n",
      "2  1  3 -0.0043  0.0003  100.0  518.67  642.35  1587.99  1404.20  14.62  ...   \n",
      "3  1  4  0.0007  0.0000  100.0  518.67  642.35  1582.79  1401.87  14.62  ...   \n",
      "4  1  5 -0.0019 -0.0002  100.0  518.67  642.37  1582.85  1406.22  14.62  ...   \n",
      "\n",
      "        17       18      19    20   21    22     23     24       25  rul  \n",
      "0  2388.02  8138.62  8.4195  0.03  392  2388  100.0  39.06  23.4190  112  \n",
      "1  2388.07  8131.49  8.4318  0.03  392  2388  100.0  39.00  23.4236  112  \n",
      "2  2388.03  8133.23  8.4178  0.03  390  2388  100.0  38.95  23.3442  112  \n",
      "3  2388.08  8133.83  8.3682  0.03  392  2388  100.0  38.88  23.3739  112  \n",
      "4  2388.04  8133.80  8.4294  0.03  393  2388  100.0  38.90  23.4044  112  \n",
      "\n",
      "[5 rows x 27 columns]\n",
      "0      0\n",
      "1      0\n",
      "2      0\n",
      "3      0\n",
      "4      0\n",
      "5      0\n",
      "6      0\n",
      "7      0\n",
      "8      0\n",
      "9      0\n",
      "10     0\n",
      "11     0\n",
      "12     0\n",
      "13     0\n",
      "14     0\n",
      "15     0\n",
      "16     0\n",
      "17     0\n",
      "18     0\n",
      "19     0\n",
      "20     0\n",
      "21     0\n",
      "22     0\n",
      "23     0\n",
      "24     0\n",
      "25     0\n",
      "rul    0\n",
      "dtype: int64\n"
     ]
    }
   ],
   "source": [
    "indices = rul_data1.index.tolist()\n",
    "rul_dict1 = {index + 1: rul_data1.loc[index, 0] for index in indices}\n",
    "train_data1['rul'] = train_data1[0].map(rul_dict1)"
   ]
  },
  {
   "cell_type": "code",
   "execution_count": 12,
   "id": "0d2d5b8c-7477-42d3-9201-4d6a63129262",
   "metadata": {},
   "outputs": [
    {
     "name": "stdout",
     "output_type": "stream",
     "text": [
      "{1: 18, 2: 79, 3: 106, 4: 110, 5: 15, 6: 155, 7: 6, 8: 90, 9: 11, 10: 79, 11: 6, 12: 73, 13: 30, 14: 11, 15: 37, 16: 67, 17: 68, 18: 99, 19: 22, 20: 54, 21: 97, 22: 10, 23: 142, 24: 77, 25: 88, 26: 163, 27: 126, 28: 138, 29: 83, 30: 78, 31: 75, 32: 11, 33: 53, 34: 173, 35: 63, 36: 100, 37: 151, 38: 55, 39: 48, 40: 37, 41: 44, 42: 27, 43: 18, 44: 6, 45: 15, 46: 112, 47: 131, 48: 13, 49: 122, 50: 13, 51: 98, 52: 53, 53: 52, 54: 106, 55: 103, 56: 152, 57: 123, 58: 26, 59: 178, 60: 73, 61: 169, 62: 39, 63: 39, 64: 14, 65: 11, 66: 121, 67: 86, 68: 56, 69: 115, 70: 17, 71: 148, 72: 104, 73: 78, 74: 86, 75: 98, 76: 36, 77: 94, 78: 52, 79: 91, 80: 15, 81: 141, 82: 74, 83: 146, 84: 17, 85: 47, 86: 194, 87: 21, 88: 79, 89: 97, 90: 8, 91: 9, 92: 73, 93: 183, 94: 97, 95: 73, 96: 49, 97: 31, 98: 97, 99: 9, 100: 14, 101: 106, 102: 8, 103: 8, 104: 106, 105: 116, 106: 120, 107: 61, 108: 168, 109: 35, 110: 80, 111: 9, 112: 50, 113: 151, 114: 78, 115: 91, 116: 7, 117: 181, 118: 150, 119: 106, 120: 15, 121: 67, 122: 145, 123: 180, 124: 7, 125: 179, 126: 124, 127: 82, 128: 108, 129: 79, 130: 121, 131: 120, 132: 39, 133: 38, 134: 9, 135: 167, 136: 87, 137: 88, 138: 7, 139: 51, 140: 55, 141: 155, 142: 47, 143: 81, 144: 43, 145: 98, 146: 10, 147: 92, 148: 11, 149: 165, 150: 34, 151: 115, 152: 59, 153: 99, 154: 103, 155: 108, 156: 83, 157: 171, 158: 15, 159: 9, 160: 42, 161: 13, 162: 41, 163: 88, 164: 14, 165: 155, 166: 188, 167: 96, 168: 82, 169: 135, 170: 182, 171: 36, 172: 107, 173: 14, 174: 95, 175: 142, 176: 23, 177: 6, 178: 144, 179: 35, 180: 97, 181: 68, 182: 14, 183: 67, 184: 191, 185: 19, 186: 10, 187: 158, 188: 183, 189: 43, 190: 12, 191: 148, 192: 13, 193: 37, 194: 122, 195: 80, 196: 93, 197: 132, 198: 32, 199: 103, 200: 174, 201: 111, 202: 68, 203: 192, 204: 121, 205: 134, 206: 48, 207: 85, 208: 8, 209: 23, 210: 8, 211: 6, 212: 57, 213: 83, 214: 172, 215: 101, 216: 81, 217: 86, 218: 165, 219: 73, 220: 121, 221: 139, 222: 75, 223: 151, 224: 145, 225: 11, 226: 108, 227: 14, 228: 126, 229: 61, 230: 85, 231: 8, 232: 101, 233: 153, 234: 89, 235: 190, 236: 12, 237: 62, 238: 134, 239: 101, 240: 121, 241: 167, 242: 17, 243: 161, 244: 181, 245: 16, 246: 152, 247: 148, 248: 56, 249: 111, 250: 23, 251: 84, 252: 12, 253: 43, 254: 48, 255: 122, 256: 191, 257: 56, 258: 131, 259: 51}\n",
      "         0    1        2       3      4       5       6        7        8  \\\n",
      "53438  259  201  20.0070  0.7000  100.0  491.19  608.51  1496.24  1274.58   \n",
      "53439  259  202  42.0076  0.8400  100.0  445.00  550.35  1370.37  1140.60   \n",
      "53440  259  203  25.0074  0.6200   60.0  462.54  537.04  1276.86  1062.90   \n",
      "53441  259  204  25.0042  0.6200   60.0  462.54  537.07  1277.35  1069.60   \n",
      "53442  259  205  41.9989  0.8405  100.0  445.00  550.60  1366.52  1149.97   \n",
      "\n",
      "          9  ...       17       18       19    20   21    22      23     24  \\\n",
      "53438  9.35  ...  2388.26  8058.04   9.3065  0.03  367  2324  100.00  24.24   \n",
      "53439  3.91  ...  2387.77  8077.23   9.4595  0.02  334  2212  100.00  10.65   \n",
      "53440  7.05  ...  2028.17  7875.04  10.9847  0.02  309  1915   84.93  14.22   \n",
      "53441  7.05  ...  2028.12  7873.66  11.0309  0.02  310  1915   84.93  14.06   \n",
      "53442  3.91  ...  2387.73  8075.91   9.4882  0.02  333  2212  100.00  10.30   \n",
      "\n",
      "            25   rul  \n",
      "53438  14.4662  51.0  \n",
      "53439   6.3241  51.0  \n",
      "53440   8.4417  51.0  \n",
      "53441   8.4913  51.0  \n",
      "53442   6.2778  51.0  \n",
      "\n",
      "[5 rows x 27 columns]\n",
      "   0  1        2       3      4       5       6        7        8     9  ...  \\\n",
      "0  1  1  34.9983  0.8400  100.0  449.44  555.32  1358.61  1137.23  5.48  ...   \n",
      "1  1  2  41.9982  0.8408  100.0  445.00  549.90  1353.22  1125.78  3.91  ...   \n",
      "2  1  3  24.9988  0.6218   60.0  462.54  537.31  1256.76  1047.45  7.05  ...   \n",
      "3  1  4  42.0077  0.8416  100.0  445.00  549.51  1354.03  1126.38  3.91  ...   \n",
      "4  1  5  25.0005  0.6203   60.0  462.54  537.07  1257.71  1047.93  7.05  ...   \n",
      "\n",
      "        17       18       19    20   21    22      23     24      25   rul  \n",
      "0  2387.72  8048.56   9.3461  0.02  334  2223  100.00  14.73  8.8071  18.0  \n",
      "1  2387.66  8072.30   9.3774  0.02  330  2212  100.00  10.41  6.2665  18.0  \n",
      "2  2028.03  7864.87  10.8941  0.02  309  1915   84.93  14.08  8.6723  18.0  \n",
      "3  2387.61  8068.66   9.3528  0.02  329  2212  100.00  10.59  6.4701  18.0  \n",
      "4  2028.00  7861.23  10.8963  0.02  309  1915   84.93  14.13  8.5286  18.0  \n",
      "\n",
      "[5 rows x 27 columns]\n",
      "0      0\n",
      "1      0\n",
      "2      0\n",
      "3      0\n",
      "4      0\n",
      "5      0\n",
      "6      0\n",
      "7      0\n",
      "8      0\n",
      "9      0\n",
      "10     0\n",
      "11     0\n",
      "12     0\n",
      "13     0\n",
      "14     0\n",
      "15     0\n",
      "16     0\n",
      "17     0\n",
      "18     0\n",
      "19     0\n",
      "20     0\n",
      "21     0\n",
      "22     0\n",
      "23     0\n",
      "24     0\n",
      "25     0\n",
      "rul    0\n",
      "dtype: int64\n"
     ]
    }
   ],
   "source": [
    "indices2 = rul_data2.index.tolist()\n",
    "rul_dict2 = {index + 1: rul_data2.loc[index, 0] for index in indices2}\n",
    "train_data2['rul'] = train_data2[0].map(rul_dict2)\n",
    "train_data2.drop(train_data2[train_data2[0] == 260].index, inplace=True)"
   ]
  },
  {
   "cell_type": "code",
   "execution_count": 13,
   "id": "f32b791e-088d-4254-93ac-aadab3acf680",
   "metadata": {},
   "outputs": [
    {
     "name": "stdout",
     "output_type": "stream",
     "text": [
      "         0    1       2       3      4       5       6        7        8  \\\n",
      "24715  100  148 -0.0016 -0.0003  100.0  518.67  643.78  1596.01  1424.11   \n",
      "24716  100  149  0.0034 -0.0003  100.0  518.67  643.29  1596.38  1429.14   \n",
      "24717  100  150 -0.0016  0.0004  100.0  518.67  643.84  1604.53  1431.41   \n",
      "24718  100  151 -0.0023  0.0004  100.0  518.67  643.94  1597.56  1426.57   \n",
      "24719  100  152  0.0000  0.0003  100.0  518.67  643.64  1599.04  1436.06   \n",
      "\n",
      "           9  ...       17       18      19    20   21    22     23     24  \\\n",
      "24715  14.62  ...  2388.30  8138.08  8.5036  0.03  394  2388  100.0  38.44   \n",
      "24716  14.62  ...  2388.28  8144.36  8.5174  0.03  395  2388  100.0  38.50   \n",
      "24717  14.62  ...  2388.24  8135.95  8.5223  0.03  396  2388  100.0  38.39   \n",
      "24718  14.62  ...  2388.26  8141.24  8.5148  0.03  395  2388  100.0  38.31   \n",
      "24719  14.62  ...  2388.24  8136.98  8.5150  0.03  396  2388  100.0  38.56   \n",
      "\n",
      "            25  rul  \n",
      "24715  22.9631   28  \n",
      "24716  22.9746   28  \n",
      "24717  23.0682   28  \n",
      "24718  23.0753   28  \n",
      "24719  23.0847   28  \n",
      "\n",
      "[5 rows x 27 columns]\n",
      "   0  1       2       3      4       5       6        7        8      9  ...  \\\n",
      "0  1  1 -0.0005  0.0004  100.0  518.67  642.36  1583.23  1396.84  14.62  ...   \n",
      "1  1  2  0.0008 -0.0003  100.0  518.67  642.50  1584.69  1396.89  14.62  ...   \n",
      "2  1  3 -0.0014 -0.0002  100.0  518.67  642.18  1582.35  1405.61  14.62  ...   \n",
      "3  1  4 -0.0020  0.0001  100.0  518.67  642.92  1585.61  1392.27  14.62  ...   \n",
      "4  1  5  0.0016  0.0000  100.0  518.67  641.68  1588.63  1397.65  14.62  ...   \n",
      "\n",
      "        17       18      19    20   21    22     23     24       25  rul  \n",
      "0  2388.01  8145.32  8.4246  0.03  391  2388  100.0  39.11  23.3537   44  \n",
      "1  2388.03  8152.85  8.4403  0.03  392  2388  100.0  38.99  23.4491   44  \n",
      "2  2388.00  8150.17  8.3901  0.03  391  2388  100.0  38.85  23.3669   44  \n",
      "3  2388.08  8146.56  8.3878  0.03  392  2388  100.0  38.96  23.2951   44  \n",
      "4  2388.03  8147.80  8.3869  0.03  392  2388  100.0  39.14  23.4583   44  \n",
      "\n",
      "[5 rows x 27 columns]\n",
      "0      0\n",
      "1      0\n",
      "2      0\n",
      "3      0\n",
      "4      0\n",
      "5      0\n",
      "6      0\n",
      "7      0\n",
      "8      0\n",
      "9      0\n",
      "10     0\n",
      "11     0\n",
      "12     0\n",
      "13     0\n",
      "14     0\n",
      "15     0\n",
      "16     0\n",
      "17     0\n",
      "18     0\n",
      "19     0\n",
      "20     0\n",
      "21     0\n",
      "22     0\n",
      "23     0\n",
      "24     0\n",
      "25     0\n",
      "rul    0\n",
      "dtype: int64\n"
     ]
    }
   ],
   "source": [
    "indices3 = rul_data3.index.tolist()\n",
    "rul_dict3 = {index + 1: rul_data3.loc[index, 0] for index in indices3}\n",
    "train_data3['rul'] = train_data3[0].map(rul_dict3)"
   ]
  },
  {
   "cell_type": "code",
   "execution_count": 14,
   "id": "08cd1326-27d5-42e0-9ea7-af93593f89e7",
   "metadata": {},
   "outputs": [
    {
     "name": "stdout",
     "output_type": "stream",
     "text": [
      "0        0\n",
      "1        0\n",
      "2        0\n",
      "3        0\n",
      "4        0\n",
      "5        0\n",
      "6        0\n",
      "7        0\n",
      "8        0\n",
      "9        0\n",
      "10       0\n",
      "11       0\n",
      "12       0\n",
      "13       0\n",
      "14       0\n",
      "15       0\n",
      "16       0\n",
      "17       0\n",
      "18       0\n",
      "19       0\n",
      "20       0\n",
      "21       0\n",
      "22       0\n",
      "23       0\n",
      "24       0\n",
      "25       0\n",
      "rul    255\n",
      "dtype: int64\n",
      "         0    1        2       3      4       5       6        7        8  \\\n",
      "60989  248  180  35.0019  0.8409  100.0  449.44  556.28  1377.65  1148.96   \n",
      "60990  248  181   0.0023  0.0000  100.0  518.67  643.95  1602.98  1429.57   \n",
      "60991  248  182  25.0030  0.6200   60.0  462.54  536.88  1268.01  1067.09   \n",
      "60992  248  183  41.9984  0.8414  100.0  445.00  550.64  1363.76  1145.72   \n",
      "60993  248  184   0.0013  0.0001  100.0  518.67  643.50  1602.12  1430.34   \n",
      "\n",
      "           9  ...       17       18       19    20   21    22      23     24  \\\n",
      "60989   5.48  ...  2387.77  8048.91   9.4169  0.02  337  2223  100.00  14.66   \n",
      "60990  14.62  ...  2388.27  8122.44   8.5242  0.03  396  2388  100.00  38.40   \n",
      "60991   7.05  ...  2027.98  7865.18  10.9790  0.02  309  1915   84.93  14.24   \n",
      "60992   3.91  ...  2387.48  8069.84   9.4607  0.02  333  2212  100.00  10.37   \n",
      "60993  14.62  ...  2388.33  8120.43   8.4998  0.03  395  2388  100.00  38.48   \n",
      "\n",
      "            25   rul  \n",
      "60989   8.7446  26.0  \n",
      "60990  23.1079  26.0  \n",
      "60991   8.4254  26.0  \n",
      "60992   6.2727  26.0  \n",
      "60993  23.0767  26.0  \n",
      "\n",
      "[5 rows x 27 columns]\n",
      "   0  1        2       3      4       5       6        7        8     9  ...  \\\n",
      "0  1  1  42.0049  0.8400  100.0  445.00  549.68  1343.43  1112.93  3.91  ...   \n",
      "1  1  2  20.0020  0.7002  100.0  491.19  606.07  1477.61  1237.50  9.35  ...   \n",
      "2  1  3  42.0038  0.8409  100.0  445.00  548.95  1343.12  1117.05  3.91  ...   \n",
      "3  1  4  42.0000  0.8400  100.0  445.00  548.70  1341.24  1118.03  3.91  ...   \n",
      "4  1  5  25.0063  0.6207   60.0  462.54  536.10  1255.23  1033.59  7.05  ...   \n",
      "\n",
      "        17       18       19    20   21    22      23     24       25   rul  \n",
      "0  2387.99  8074.83   9.3335  0.02  330  2212  100.00  10.62   6.3670  22.0  \n",
      "1  2387.73  8046.13   9.1913  0.02  361  2324  100.00  24.37  14.6552  22.0  \n",
      "2  2387.97  8066.62   9.4007  0.02  329  2212  100.00  10.48   6.4213  22.0  \n",
      "3  2388.02  8076.05   9.3369  0.02  328  2212  100.00  10.54   6.4176  22.0  \n",
      "4  2028.08  7865.80  10.8366  0.02  305  1915   84.93  14.03   8.6754  22.0  \n",
      "\n",
      "[5 rows x 27 columns]\n",
      "0      0\n",
      "1      0\n",
      "2      0\n",
      "3      0\n",
      "4      0\n",
      "5      0\n",
      "6      0\n",
      "7      0\n",
      "8      0\n",
      "9      0\n",
      "10     0\n",
      "11     0\n",
      "12     0\n",
      "13     0\n",
      "14     0\n",
      "15     0\n",
      "16     0\n",
      "17     0\n",
      "18     0\n",
      "19     0\n",
      "20     0\n",
      "21     0\n",
      "22     0\n",
      "23     0\n",
      "24     0\n",
      "25     0\n",
      "rul    0\n",
      "dtype: int64\n"
     ]
    }
   ],
   "source": [
    "indices4 = rul_data4.index.tolist()\n",
    "rul_dict4 = {index + 1: rul_data4.loc[index, 0] for index in indices4}\n",
    "train_data4['rul'] = train_data4[0].map(rul_dict4)\n",
    "train_data4.dropna(subset=['rul'], inplace=True)"
   ]
  },
  {
   "cell_type": "code",
   "execution_count": 15,
   "id": "d848a162-2a4b-45b0-918e-d8a2c4ba03ee",
   "metadata": {},
   "outputs": [],
   "source": [
    "train_data = pd.concat([train_data1, train_data2, train_data3, train_data4], axis=0, ignore_index=True)\n",
    "X = train_data.drop(['rul'], axis=1)\n",
    "y = train_data['rul']\n",
    "X_train, X_test, y_train, y_test = train_test_split(X,y,test_size=0.1,random_state=123)"
   ]
  },
  {
   "cell_type": "markdown",
   "id": "9a4888fa-29f2-478b-99e2-fb718583eefe",
   "metadata": {},
   "source": [
    "### XGBoost\n",
    "\n",
    "Instantiate and define XGBoost regresion object by calling the XGBRegressor() class from the library. Use hyperparameters to define the object. Intel optimizations for XGBoost trainingcan be used by calling the hist tree method in the parameters, as shown below.\n",
    "\n",
    "Fitting and training model using training datasets and predicting values. Note that Intel optimizations for XGBoost inference are enabled by default."
   ]
  },
  {
   "cell_type": "code",
   "execution_count": 43,
   "id": "85705ac4-6c90-4746-a7a1-aa5ab3a2ec01",
   "metadata": {},
   "outputs": [
    {
     "name": "stdout",
     "output_type": "stream",
     "text": [
      "Training time: 31.11 seconds\n"
     ]
    }
   ],
   "source": [
    "# Train the model\n",
    "warnings.simplefilter(action='ignore', category=UserWarning)\n",
    "t1_start = perf_counter()\n",
    "xg_reg = xgb.XGBRegressor(objective ='reg:squarederror', colsample_bytree = 0.3, learning_rate = 0.1,max_depth = 30, alpha = 30, n_estimators = 200, tree_method='hist')\n",
    "xg_reg.fit(X_train,y_train)\n",
    "preds = xg_reg.predict(X_test)\n",
    "t1_stop = perf_counter()\n",
    "print(\"Training time: {:.2f} seconds\".format(t1_stop - t1_start))"
   ]
  },
  {
   "cell_type": "code",
   "execution_count": 44,
   "id": "0bd500bc-83fb-48ff-ad0e-73fd98c274d6",
   "metadata": {},
   "outputs": [
    {
     "name": "stdout",
     "output_type": "stream",
     "text": [
      "RMSE: 30.786741709841618\n"
     ]
    }
   ],
   "source": [
    "# Finding root mean squared error of predicted values.\n",
    "rmse = np.sqrt(mean_squared_error(y_test, preds))\n",
    "print(\"RMSE:\",rmse)"
   ]
  },
  {
   "cell_type": "code",
   "execution_count": 45,
   "id": "062a5243-189c-4eb8-bc81-3f7177d57f07",
   "metadata": {},
   "outputs": [
    {
     "name": "stdout",
     "output_type": "stream",
     "text": [
      "Here's our model:\n",
      "\n",
      "\n",
      " NumberOfBetas: 27\n",
      "\n",
      "NumberOfResponses: 1\n",
      "\n",
      "InterceptFlag: False\n",
      "\n",
      "Beta: array(\n",
      "  [[ 0.00000000e+00  6.40636534e-02 -1.09749209e-02 -3.50389814e+01\n",
      "     3.19743112e+02  6.98424277e+02  2.52246806e+02 -7.73440954e-01\n",
      "     3.07479988e-02  1.76379633e-02 -1.36031299e+02  4.93662752e+00\n",
      "    -3.04658466e-01  2.93264694e+00 -1.47145302e-03 -2.03652606e+01\n",
      "    -1.73567696e+00 -3.24483302e-01  9.63718034e-01  2.15979649e-02\n",
      "     8.30389231e+00  7.11025964e+00  2.62138032e-02 -1.05973137e+02\n",
      "     4.55860894e+02  1.87719590e+00  3.67279622e-01]],\n",
      "  dtype=float64, shape=(1, 27))\n",
      "\n",
      "NumberOfFeatures: 26 \n",
      "\n"
     ]
    },
    {
     "data": {
      "text/plain": [
       "['../_Project_Innovator1_TurbofanEngineDegradationRUL/models/xgb_regression.pkl']"
      ]
     },
     "execution_count": 45,
     "metadata": {},
     "output_type": "execute_result"
    }
   ],
   "source": [
    "print(\"Here's our model:\\n\\n\\n\", model , \"\\n\")\n",
    "model_filename1 = '../_Project_Innovator1_TurbofanEngineDegradationRUL/models/xgb_regression.pkl'\n",
    "# saving model to a file\n",
    "joblib.dump(xg_reg, model_filename1) # nosec"
   ]
  },
  {
   "cell_type": "code",
   "execution_count": 47,
   "id": "d6566b05-da40-43d7-a814-b3055011f98a",
   "metadata": {},
   "outputs": [
    {
     "name": "stdout",
     "output_type": "stream",
     "text": [
      "Here is one of our loaded model's features: \n",
      "\n",
      " XGBRegressor(alpha=30, base_score=None, booster=None, callbacks=None,\n",
      "             colsample_bylevel=None, colsample_bynode=None,\n",
      "             colsample_bytree=0.3, early_stopping_rounds=None,\n",
      "             enable_categorical=False, eval_metric=None, feature_types=None,\n",
      "             gamma=None, gpu_id=None, grow_policy=None, importance_type=None,\n",
      "             interaction_constraints=None, learning_rate=0.1, max_bin=None,\n",
      "             max_cat_threshold=None, max_cat_to_onehot=None,\n",
      "             max_delta_step=None, max_depth=30, max_leaves=None,\n",
      "             min_child_weight=None, missing=nan, monotone_constraints=None,\n",
      "             n_estimators=200, n_jobs=None, num_parallel_tree=None,\n",
      "             predictor=None, ...)\n"
     ]
    }
   ],
   "source": [
    "# loading the training model from a file\n",
    "loaded_model1 = joblib.load(open(model_filename1, \"rb\")) # nosec\n",
    "print(\"Here is one of our loaded model's features: \\n\\n\", loaded_model1)"
   ]
  },
  {
   "cell_type": "markdown",
   "id": "6e06a35e-8e20-41ed-ace1-6eec94ba4e0e",
   "metadata": {},
   "source": [
    "https://stackabuse.com/bytes/how-to-save-and-load-xgboost-models/"
   ]
  },
  {
   "cell_type": "code",
   "execution_count": 48,
   "id": "59c17363-7726-43c7-afb4-e5bc04f7ca22",
   "metadata": {},
   "outputs": [],
   "source": [
    "preds = loaded_model1.predict(X_test)\n",
    "# predicting the target feature(s) using the trained model"
   ]
  },
  {
   "cell_type": "code",
   "execution_count": 49,
   "id": "b9803929-ad1d-4ce0-a63a-301578d6cd0f",
   "metadata": {},
   "outputs": [
    {
     "name": "stdout",
     "output_type": "stream",
     "text": [
      "[CODE_SAMPLE_COMPLETED_SUCCESFULLY]\n"
     ]
    }
   ],
   "source": [
    "np.savetxt(\"../_Project_Innovator1_TurbofanEngineDegradationRUL/results/xgb_results.csv\", preds, delimiter =  \",\")\n",
    "print(\"[CODE_SAMPLE_COMPLETED_SUCCESFULLY]\")"
   ]
  },
  {
   "cell_type": "code",
   "execution_count": 21,
   "id": "6a6d7f0c-896b-43c3-9627-dbfc689d5d3f",
   "metadata": {},
   "outputs": [
    {
     "data": {
      "text/html": [
       "<style>#sk-container-id-1 {color: black;background-color: white;}#sk-container-id-1 pre{padding: 0;}#sk-container-id-1 div.sk-toggleable {background-color: white;}#sk-container-id-1 label.sk-toggleable__label {cursor: pointer;display: block;width: 100%;margin-bottom: 0;padding: 0.3em;box-sizing: border-box;text-align: center;}#sk-container-id-1 label.sk-toggleable__label-arrow:before {content: \"▸\";float: left;margin-right: 0.25em;color: #696969;}#sk-container-id-1 label.sk-toggleable__label-arrow:hover:before {color: black;}#sk-container-id-1 div.sk-estimator:hover label.sk-toggleable__label-arrow:before {color: black;}#sk-container-id-1 div.sk-toggleable__content {max-height: 0;max-width: 0;overflow: hidden;text-align: left;background-color: #f0f8ff;}#sk-container-id-1 div.sk-toggleable__content pre {margin: 0.2em;color: black;border-radius: 0.25em;background-color: #f0f8ff;}#sk-container-id-1 input.sk-toggleable__control:checked~div.sk-toggleable__content {max-height: 200px;max-width: 100%;overflow: auto;}#sk-container-id-1 input.sk-toggleable__control:checked~label.sk-toggleable__label-arrow:before {content: \"▾\";}#sk-container-id-1 div.sk-estimator input.sk-toggleable__control:checked~label.sk-toggleable__label {background-color: #d4ebff;}#sk-container-id-1 div.sk-label input.sk-toggleable__control:checked~label.sk-toggleable__label {background-color: #d4ebff;}#sk-container-id-1 input.sk-hidden--visually {border: 0;clip: rect(1px 1px 1px 1px);clip: rect(1px, 1px, 1px, 1px);height: 1px;margin: -1px;overflow: hidden;padding: 0;position: absolute;width: 1px;}#sk-container-id-1 div.sk-estimator {font-family: monospace;background-color: #f0f8ff;border: 1px dotted black;border-radius: 0.25em;box-sizing: border-box;margin-bottom: 0.5em;}#sk-container-id-1 div.sk-estimator:hover {background-color: #d4ebff;}#sk-container-id-1 div.sk-parallel-item::after {content: \"\";width: 100%;border-bottom: 1px solid gray;flex-grow: 1;}#sk-container-id-1 div.sk-label:hover label.sk-toggleable__label {background-color: #d4ebff;}#sk-container-id-1 div.sk-serial::before {content: \"\";position: absolute;border-left: 1px solid gray;box-sizing: border-box;top: 0;bottom: 0;left: 50%;z-index: 0;}#sk-container-id-1 div.sk-serial {display: flex;flex-direction: column;align-items: center;background-color: white;padding-right: 0.2em;padding-left: 0.2em;position: relative;}#sk-container-id-1 div.sk-item {position: relative;z-index: 1;}#sk-container-id-1 div.sk-parallel {display: flex;align-items: stretch;justify-content: center;background-color: white;position: relative;}#sk-container-id-1 div.sk-item::before, #sk-container-id-1 div.sk-parallel-item::before {content: \"\";position: absolute;border-left: 1px solid gray;box-sizing: border-box;top: 0;bottom: 0;left: 50%;z-index: -1;}#sk-container-id-1 div.sk-parallel-item {display: flex;flex-direction: column;z-index: 1;position: relative;background-color: white;}#sk-container-id-1 div.sk-parallel-item:first-child::after {align-self: flex-end;width: 50%;}#sk-container-id-1 div.sk-parallel-item:last-child::after {align-self: flex-start;width: 50%;}#sk-container-id-1 div.sk-parallel-item:only-child::after {width: 0;}#sk-container-id-1 div.sk-dashed-wrapped {border: 1px dashed gray;margin: 0 0.4em 0.5em 0.4em;box-sizing: border-box;padding-bottom: 0.4em;background-color: white;}#sk-container-id-1 div.sk-label label {font-family: monospace;font-weight: bold;display: inline-block;line-height: 1.2em;}#sk-container-id-1 div.sk-label-container {text-align: center;}#sk-container-id-1 div.sk-container {/* jupyter's `normalize.less` sets `[hidden] { display: none; }` but bootstrap.min.css set `[hidden] { display: none !important; }` so we also need the `!important` here to be able to override the default hidden behavior on the sphinx rendered scikit-learn.org. See: https://github.com/scikit-learn/scikit-learn/issues/21755 */display: inline-block !important;position: relative;}#sk-container-id-1 div.sk-text-repr-fallback {display: none;}</style><div id=\"sk-container-id-1\" class=\"sk-top-container\"><div class=\"sk-text-repr-fallback\"><pre>XGBRegressor(base_score=None, booster=&#x27;gbtree&#x27;, callbacks=None,\n",
       "             colsample_bylevel=None, colsample_bynode=None,\n",
       "             colsample_bytree=None, disable_default_eval_metric=&#x27;true&#x27;,\n",
       "             early_stopping_rounds=None, enable_categorical=False,\n",
       "             eval_metric=&#x27;rmse&#x27;, feature_types=None, gamma=None, gpu_id=None,\n",
       "             grow_policy=None, importance_type=None,\n",
       "             interaction_constraints=None, learning_rate=None, max_bin=None,\n",
       "             max_cat_threshold=None, max_cat_to_onehot=None,\n",
       "             max_delta_step=None, max_depth=None, max_leaves=None,\n",
       "             min_child_weight=None, missing=nan, monotone_constraints=None,\n",
       "             n_estimators=100, n_jobs=None, num_parallel_tree=None,\n",
       "             predictor=&#x27;cpu_predictor&#x27;, ...)</pre><b>In a Jupyter environment, please rerun this cell to show the HTML representation or trust the notebook. <br />On GitHub, the HTML representation is unable to render, please try loading this page with nbviewer.org.</b></div><div class=\"sk-container\" hidden><div class=\"sk-item\"><div class=\"sk-estimator sk-toggleable\"><input class=\"sk-toggleable__control sk-hidden--visually\" id=\"sk-estimator-id-1\" type=\"checkbox\" checked><label for=\"sk-estimator-id-1\" class=\"sk-toggleable__label sk-toggleable__label-arrow\">XGBRegressor</label><div class=\"sk-toggleable__content\"><pre>XGBRegressor(base_score=None, booster=&#x27;gbtree&#x27;, callbacks=None,\n",
       "             colsample_bylevel=None, colsample_bynode=None,\n",
       "             colsample_bytree=None, disable_default_eval_metric=&#x27;true&#x27;,\n",
       "             early_stopping_rounds=None, enable_categorical=False,\n",
       "             eval_metric=&#x27;rmse&#x27;, feature_types=None, gamma=None, gpu_id=None,\n",
       "             grow_policy=None, importance_type=None,\n",
       "             interaction_constraints=None, learning_rate=None, max_bin=None,\n",
       "             max_cat_threshold=None, max_cat_to_onehot=None,\n",
       "             max_delta_step=None, max_depth=None, max_leaves=None,\n",
       "             min_child_weight=None, missing=nan, monotone_constraints=None,\n",
       "             n_estimators=100, n_jobs=None, num_parallel_tree=None,\n",
       "             predictor=&#x27;cpu_predictor&#x27;, ...)</pre></div></div></div></div></div>"
      ],
      "text/plain": [
       "XGBRegressor(base_score=None, booster='gbtree', callbacks=None,\n",
       "             colsample_bylevel=None, colsample_bynode=None,\n",
       "             colsample_bytree=None, disable_default_eval_metric='true',\n",
       "             early_stopping_rounds=None, enable_categorical=False,\n",
       "             eval_metric='rmse', feature_types=None, gamma=None, gpu_id=None,\n",
       "             grow_policy=None, importance_type=None,\n",
       "             interaction_constraints=None, learning_rate=None, max_bin=None,\n",
       "             max_cat_threshold=None, max_cat_to_onehot=None,\n",
       "             max_delta_step=None, max_depth=None, max_leaves=None,\n",
       "             min_child_weight=None, missing=nan, monotone_constraints=None,\n",
       "             n_estimators=100, n_jobs=None, num_parallel_tree=None,\n",
       "             predictor='cpu_predictor', ...)"
      ]
     },
     "execution_count": 21,
     "metadata": {},
     "output_type": "execute_result"
    }
   ],
   "source": [
    "# View the settings of the default XGBoost implementation.\n",
    "model_xgb"
   ]
  },
  {
   "cell_type": "markdown",
   "id": "9646b802-0cae-4755-a8a2-98c8f264b1b9",
   "metadata": {},
   "source": [
    "### DAAL4PY"
   ]
  },
  {
   "cell_type": "code",
   "execution_count": 22,
   "id": "808ece38-7f66-4303-b4bb-e96e756198c6",
   "metadata": {},
   "outputs": [],
   "source": [
    "# training the model for prediction\n",
    "train_result = d4p.linear_regression_training().compute(X_train, y_train)"
   ]
  },
  {
   "cell_type": "code",
   "execution_count": 25,
   "id": "8484ad14-e5e4-4d98-80b6-f60b146d4fa9",
   "metadata": {},
   "outputs": [
    {
     "name": "stdout",
     "output_type": "stream",
     "text": [
      "Here's our model:\n",
      "\n",
      "\n",
      " NumberOfBetas: 27\n",
      "\n",
      "NumberOfResponses: 1\n",
      "\n",
      "InterceptFlag: False\n",
      "\n",
      "Beta: array(\n",
      "  [[ 0.00000000e+00  6.40636534e-02 -1.09749209e-02 -3.50389814e+01\n",
      "     3.19743112e+02  6.98424277e+02  2.52246806e+02 -7.73440954e-01\n",
      "     3.07479988e-02  1.76379633e-02 -1.36031299e+02  4.93662752e+00\n",
      "    -3.04658466e-01  2.93264694e+00 -1.47145302e-03 -2.03652606e+01\n",
      "    -1.73567696e+00 -3.24483302e-01  9.63718034e-01  2.15979649e-02\n",
      "     8.30389231e+00  7.11025964e+00  2.62138032e-02 -1.05973137e+02\n",
      "     4.55860894e+02  1.87719590e+00  3.67279622e-01]],\n",
      "  dtype=float64, shape=(1, 27))\n",
      "\n",
      "NumberOfFeatures: 26 \n",
      "\n"
     ]
    },
    {
     "data": {
      "text/plain": [
       "['../_Project_Innovator1_TurbofanEngineDegradationRUL/models/linear_regression_batch.pkl']"
      ]
     },
     "execution_count": 25,
     "metadata": {},
     "output_type": "execute_result"
    }
   ],
   "source": [
    "# retrieving and printing training model\n",
    "model = train_result.model\n",
    "print(\"Here's our model:\\n\\n\\n\", model , \"\\n\")\n",
    "\n",
    "model_filename = '../_Project_Innovator1_TurbofanEngineDegradationRUL/models/linear_regression_batch.pkl'\n",
    "\n",
    "# saving model to a file\n",
    "joblib.dump(model, model_filename) # nosec"
   ]
  },
  {
   "cell_type": "code",
   "execution_count": 26,
   "id": "3e2a1310-8c59-4ca1-b4b7-e41de7d360e2",
   "metadata": {},
   "outputs": [
    {
     "name": "stdout",
     "output_type": "stream",
     "text": [
      "Here is one of our loaded model's features: \n",
      "\n",
      " [[ 0.00000000e+00  6.40636534e-02 -1.09749209e-02 -3.50389814e+01\n",
      "   3.19743112e+02  6.98424277e+02  2.52246806e+02 -7.73440954e-01\n",
      "   3.07479988e-02  1.76379633e-02 -1.36031299e+02  4.93662752e+00\n",
      "  -3.04658466e-01  2.93264694e+00 -1.47145302e-03 -2.03652606e+01\n",
      "  -1.73567696e+00 -3.24483302e-01  9.63718034e-01  2.15979649e-02\n",
      "   8.30389231e+00  7.11025964e+00  2.62138032e-02 -1.05973137e+02\n",
      "   4.55860894e+02  1.87719590e+00  3.67279622e-01]]\n"
     ]
    }
   ],
   "source": [
    "# loading the training model from a file\n",
    "loaded_model = joblib.load(open(model_filename, \"rb\")) # nosec\n",
    "print(\"Here is one of our loaded model's features: \\n\\n\", loaded_model.Beta)"
   ]
  },
  {
   "cell_type": "code",
   "execution_count": 27,
   "id": "a15a5154-5f75-4267-ab0d-d46612a73861",
   "metadata": {},
   "outputs": [],
   "source": [
    "# now predicting the target feature(s) using the trained model\n",
    "y_pred = d4p.linear_regression_prediction().compute(X_test, loaded_model).prediction "
   ]
  },
  {
   "cell_type": "code",
   "execution_count": 29,
   "id": "8407842c-b89a-4a33-9dd5-355542dc5104",
   "metadata": {},
   "outputs": [
    {
     "name": "stdout",
     "output_type": "stream",
     "text": [
      "[CODE_SAMPLE_COMPLETED_SUCCESFULLY]\n"
     ]
    }
   ],
   "source": [
    "np.savetxt(\"../_Project_Innovator1_TurbofanEngineDegradationRUL/results/linear_regression_batch_results.csv\", y_pred, delimiter =  \",\")\n",
    "print(\"[CODE_SAMPLE_COMPLETED_SUCCESFULLY]\")"
   ]
  }
 ],
 "metadata": {
  "kernelspec": {
   "display_name": "Python 3 (Intel® oneAPI 2023.2)",
   "language": "python",
   "name": "c009-intel_distribution_of_python_3_oneapi-beta05-python"
  },
  "language_info": {
   "codemirror_mode": {
    "name": "ipython",
    "version": 3
   },
   "file_extension": ".py",
   "mimetype": "text/x-python",
   "name": "python",
   "nbconvert_exporter": "python",
   "pygments_lexer": "ipython3",
   "version": "3.9.16"
  }
 },
 "nbformat": 4,
 "nbformat_minor": 5
}
